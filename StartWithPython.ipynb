{
  "nbformat": 4,
  "nbformat_minor": 0,
  "metadata": {
    "colab": {
      "provenance": []
    },
    "kernelspec": {
      "name": "python3",
      "display_name": "Python 3"
    },
    "language_info": {
      "name": "python"
    }
  },
  "cells": [
    {
      "cell_type": "code",
      "source": [
        "#Python Numbers\n",
        "#There are three numeric types in Python:\n",
        "# int\n",
        "x = 23\n",
        "print('Value of x is', x, 'and type is',type(x))\n",
        "# float\n",
        "y = 20.5\n",
        "print('Value of y is', y, 'and type is',type(y))\n",
        "# complex\n",
        "z = 2*x+4\n",
        "print('Value of z is', z, 'and type is',type(z))"
      ],
      "metadata": {
        "id": "N1XZbC_foRr4",
        "outputId": "45f2b155-f777-4b6f-b23c-a38cd100f98b",
        "colab": {
          "base_uri": "https://localhost:8080/"
        }
      },
      "execution_count": 8,
      "outputs": [
        {
          "output_type": "stream",
          "name": "stdout",
          "text": [
            "Value of x is 23 and type is <class 'int'>\n",
            "Value of y is 20.5 and type is <class 'float'>\n",
            "Value of z is 50 and type is <class 'int'>\n"
          ]
        }
      ]
    },
    {
      "cell_type": "code",
      "source": [
        "# Python Data Types\n",
        "# There are four commonly used data types in the Python programming language:\n",
        "# 1. List\n",
        "#     Ordered and changeable\n",
        "#     Allows duplicate members\n",
        "#     Lists are written with square brackets\n",
        "mylist = [\"apple\", \"banana\", \"grapes\", \"mango\"]\n",
        "print(mylist)\n",
        "print(type(mylist))\n",
        "\n",
        "hetrogenuosLst = [\"apple\", 40, \"grapes\", 100, \"banana\", 12, \"mango\", 5.0]\n",
        "print(hetrogenuosLst)\n",
        "print(type(hetrogenuosLst))\n",
        "\n",
        "\n",
        "startLst = [\"Once\",\"upon\",\"a\",\"time\"]\n",
        "endLst =  [\"there\",\"was\",\"a\",\"King\"]\n",
        "\n",
        "jointLst = startLst+endLst\n",
        "print(jointLst)\n",
        "print(type(jointLst))\n",
        "\n",
        "#Reversing the list\n",
        "print(\"Reveresed using list[::-1]: \",jointLst[::-1])\n",
        "\n",
        "reversedLst = jointLst.reverse()\n",
        "print(\"Reversed using reverse function: \", jointLst)\n",
        "\n",
        "# 2. Tuple\n",
        "#     Ordered and unchangeable\n",
        "#     Allows duplicate members\n",
        "\n",
        "\n",
        "# 3. Set\n",
        "#     Unordered and unindexed\n",
        "#     No duplicate members\n",
        "\n",
        "# 4. Dictionary\n",
        "#     Unordered, changeable and indexed\n",
        "#     No duplicate members\n"
      ],
      "metadata": {
        "id": "sKrv-8qNqxUq",
        "outputId": "a40fa368-0bbc-4cbb-bbab-64a2ad319bb9",
        "colab": {
          "base_uri": "https://localhost:8080/"
        }
      },
      "execution_count": 20,
      "outputs": [
        {
          "output_type": "stream",
          "name": "stdout",
          "text": [
            "['apple', 'banana', 'grapes', 'mango']\n",
            "<class 'list'>\n",
            "['apple', 40, 'grapes', 100, 'banana', 12, 'mango', 5.0]\n",
            "<class 'list'>\n",
            "['Once', 'upon', 'a', 'time', 'there', 'was', 'a', 'King']\n",
            "<class 'list'>\n",
            "Reveresed using list[::-1]:  ['King', 'a', 'was', 'there', 'time', 'a', 'upon', 'Once']\n",
            "Reversed using reverse function:  ['King', 'a', 'was', 'there', 'time', 'a', 'upon', 'Once']\n"
          ]
        }
      ]
    }
  ]
}