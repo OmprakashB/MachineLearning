{
  "nbformat": 4,
  "nbformat_minor": 0,
  "metadata": {
    "colab": {
      "provenance": []
    },
    "kernelspec": {
      "name": "python3",
      "display_name": "Python 3"
    },
    "language_info": {
      "name": "python"
    }
  },
  "cells": [
    {
      "cell_type": "code",
      "source": [
        "#Python Numbers\n",
        "#There are three numeric types in Python:\n",
        "# int\n",
        "x = 23\n",
        "print('Value of x is', x, 'and type is',type(x))\n",
        "# float\n",
        "y = 20.5\n",
        "print('Value of y is', y, 'and type is',type(y))\n",
        "# complex\n",
        "z = 2*x+ y\n",
        "print('Value of z is', z, 'and type is',type(z))"
      ],
      "metadata": {
        "id": "N1XZbC_foRr4",
        "outputId": "d9247304-471d-4ace-b0dc-212b5c26c1ad",
        "colab": {
          "base_uri": "https://localhost:8080/"
        }
      },
      "execution_count": 3,
      "outputs": [
        {
          "output_type": "stream",
          "name": "stdout",
          "text": [
            "Value of x is 23 and type is <class 'int'>\n",
            "Value of y is 20.5 and type is <class 'float'>\n",
            "Value of z is 66.5 and type is <class 'float'>\n"
          ]
        }
      ]
    },
    {
      "cell_type": "code",
      "source": [
        "# Python Data Types\n",
        "# There are four commonly used data types in the Python programming language:\n",
        "# 1. List\n",
        "#     Ordered and changeable\n",
        "#     Allows duplicate members\n",
        "#     Lists are written with square brackets\n",
        "myLst = [\"apple\", \"apple\", \"banana\", \"grapes\", \"mango\"]\n",
        "print(type(myLst))\n",
        "print('List:',myLst)\n",
        "\n",
        "#To extend the list with another list or set or tuple, used extend method\n",
        "#Incase of extending with a dictionary, the keys added to the list and values are discarded\n",
        "myLst.extend({\"berry\":\"blue\", \"cherry\":\"red\"})\n",
        "print('After extend operation (Extend berry, cherry):', myLst)\n",
        "\n",
        "#Remove method removes the first occurance of the arugment in the list\n",
        "myLst.remove(\"apple\")\n",
        "print('After remove operation (Remove apple):', myLst)\n",
        "\n",
        "print('Index of apple after removing:', myLst.index('apple'))\n",
        "\n",
        "myLst.insert(2,\"custard\")\n",
        "print('After insert operation (Insert custard):', myLst)\n",
        "\n",
        "myLst.append(\"orange\")\n",
        "print('After append operation (Append orange):', myLst)\n",
        "\n",
        "#To pop the last item in the list\n",
        "popVal = myLst.pop()\n",
        "print('List.pop:', popVal)\n",
        "print('After pop operation(Popped',popVal,'):', myLst)\n",
        "\n",
        "hetrogenuosLst = [\"apple\", 40, \"grapes\", 100, \"banana\", 12, \"mango\", 5.0]\n",
        "print(hetrogenuosLst)\n",
        "print(type(hetrogenuosLst))\n",
        "\n",
        "\n",
        "startLst = [\"Once\",\"upon\",\"a\",\"time\"]\n",
        "endLst =  [\"there\",\"was\",\"a\",\"King\"]\n",
        "\n",
        "jointLst = startLst + endLst\n",
        "print(jointLst)\n",
        "print(type(jointLst))\n",
        "\n",
        "#Reversing the list\n",
        "print(\"Reveresed using list[::-1]: \",jointLst[::-1])\n",
        "\n",
        "reversedLst = jointLst.reverse()\n",
        "print(\"Reversed using reverse function: \", jointLst)\n",
        "\n",
        "\n",
        "\n",
        "# 2. Tuple\n",
        "#     Ordered and unchangeable\n",
        "#     Allows duplicate members\n",
        "myTuple = (\"apple\", \"banana\", \"grapes\", \"mango\")\n",
        "print(myTuple)\n",
        "print(type(myTuple))\n",
        "\n",
        "# 3. Set\n",
        "#     Unordered and unindexed\n",
        "#     No duplicate members\n",
        "mySet = {\"apple\", \"apple\",  \"banana\", \"grapes\", \"mango\", \"grapes\"}\n",
        "print(mySet)\n",
        "print(type(mySet))\n",
        "\n",
        "# 4. Dictionary\n",
        "#     Unordered, changeable and indexed\n",
        "#     No duplicate members\n",
        "myDict = {\"name\":\"Ganesh\", \"age\": 9, \"School\":\"TVIS, Ponneri\"}\n",
        "print(myDict)\n",
        "print(type(myDict))\n",
        "\n"
      ],
      "metadata": {
        "id": "sKrv-8qNqxUq",
        "outputId": "e98de398-efe2-4112-eacf-2cd8dd7c9114",
        "colab": {
          "base_uri": "https://localhost:8080/"
        }
      },
      "execution_count": 31,
      "outputs": [
        {
          "output_type": "stream",
          "name": "stdout",
          "text": [
            "<class 'list'>\n",
            "List: ['apple', 'apple', 'banana', 'grapes', 'mango']\n",
            "After extend operation (Extend berry, cherry): ['apple', 'apple', 'banana', 'grapes', 'mango', 'berry', 'cherry']\n",
            "After remove operation (Remove apple): ['apple', 'banana', 'grapes', 'mango', 'berry', 'cherry']\n",
            "Index of apple after removing: 0\n",
            "After insert operation (Insert custard): ['apple', 'banana', 'custard', 'grapes', 'mango', 'berry', 'cherry']\n",
            "After append operation (Append orange): ['apple', 'banana', 'custard', 'grapes', 'mango', 'berry', 'cherry', 'orange']\n",
            "List.pop: orange\n",
            "After pop operation(Popped  orange ): ['apple', 'banana', 'custard', 'grapes', 'mango', 'berry', 'cherry']\n",
            "['apple', 40, 'grapes', 100, 'banana', 12, 'mango', 5.0]\n",
            "<class 'list'>\n",
            "['Once', 'upon', 'a', 'time', 'there', 'was', 'a', 'King']\n",
            "<class 'list'>\n",
            "Reveresed using list[::-1]:  ['King', 'a', 'was', 'there', 'time', 'a', 'upon', 'Once']\n",
            "Reversed using reverse function:  ['King', 'a', 'was', 'there', 'time', 'a', 'upon', 'Once']\n",
            "('apple', 'banana', 'grapes', 'mango')\n",
            "<class 'tuple'>\n",
            "{'banana', 'grapes', 'mango', 'apple'}\n",
            "<class 'set'>\n",
            "{'name': 'Ganesh', 'age': 9, 'School': 'TVIS, Ponneri'}\n",
            "<class 'dict'>\n"
          ]
        }
      ]
    }
  ]
}