{
  "nbformat": 4,
  "nbformat_minor": 0,
  "metadata": {
    "colab": {
      "provenance": []
    },
    "kernelspec": {
      "name": "python3",
      "display_name": "Python 3"
    },
    "language_info": {
      "name": "python"
    }
  },
  "cells": [
    {
      "cell_type": "code",
      "execution_count": null,
      "metadata": {
        "colab": {
          "base_uri": "https://localhost:8080/"
        },
        "id": "pqNVDs09ojYk",
        "outputId": "e4cbb99d-b716-4ffc-c16e-f4108c454d2e"
      },
      "outputs": [
        {
          "output_type": "stream",
          "name": "stdout",
          "text": [
            "Day-1\n"
          ]
        }
      ],
      "source": [
        "print(\"Day-1\")"
      ]
    },
    {
      "cell_type": "code",
      "source": [
        "# List Introduction\n",
        "l = [10,20,30]\n",
        "print(l)"
      ],
      "metadata": {
        "colab": {
          "base_uri": "https://localhost:8080/"
        },
        "id": "AtJFNT1nsopn",
        "outputId": "c5183094-a44c-4933-91fb-351ea2159f41"
      },
      "execution_count": null,
      "outputs": [
        {
          "output_type": "stream",
          "name": "stdout",
          "text": [
            "[10, 20, 30]\n"
          ]
        }
      ]
    },
    {
      "cell_type": "code",
      "source": [
        "print(type(l))  # Check the datatype of the variable"
      ],
      "metadata": {
        "colab": {
          "base_uri": "https://localhost:8080/"
        },
        "id": "8zCSL93HqxzO",
        "outputId": "a5396996-73b5-4dcf-b3b6-718f1c803731"
      },
      "execution_count": null,
      "outputs": [
        {
          "output_type": "stream",
          "name": "stdout",
          "text": [
            "<class 'list'>\n"
          ]
        }
      ]
    },
    {
      "cell_type": "code",
      "source": [
        "l2 = [10, 1.1111, \"NTT\"] #List are hetrogenous\n",
        "print(l2)"
      ],
      "metadata": {
        "id": "-L5E3VnNuK-M",
        "outputId": "66d2fd6f-2b71-4e76-a147-22b1ed51a194",
        "colab": {
          "base_uri": "https://localhost:8080/"
        }
      },
      "execution_count": null,
      "outputs": [
        {
          "output_type": "stream",
          "name": "stdout",
          "text": [
            "[10, 1.1111, 'NTT']\n"
          ]
        }
      ]
    },
    {
      "cell_type": "code",
      "source": [
        "print(len(l2)) # Find the length of the list"
      ],
      "metadata": {
        "id": "WswbIGqwuZFB",
        "outputId": "f6626887-99b6-408a-a84b-fdc9530a804b",
        "colab": {
          "base_uri": "https://localhost:8080/"
        }
      },
      "execution_count": null,
      "outputs": [
        {
          "output_type": "stream",
          "name": "stdout",
          "text": [
            "3\n"
          ]
        }
      ]
    },
    {
      "cell_type": "code",
      "source": [
        "# List creation using contructor list()\n",
        "l3 = list((10, 20, 3.333))\n",
        "print(l3)\n",
        "\n",
        "print(type(l3))"
      ],
      "metadata": {
        "id": "0ZdLizmRujbo",
        "outputId": "7c140bb4-7d35-4238-b83a-e16c863b23ce",
        "colab": {
          "base_uri": "https://localhost:8080/"
        }
      },
      "execution_count": null,
      "outputs": [
        {
          "output_type": "stream",
          "name": "stdout",
          "text": [
            "[10, 20, 3.333]\n",
            "<class 'list'>\n"
          ]
        }
      ]
    },
    {
      "cell_type": "code",
      "source": [
        "#Playing with index on list\n",
        "l4 = [10, 20, 30, 40, 50, 6.6, 7.7, 8.8, 9.9, 100, \"Alpha\", \"Beta\", \"Delta\"]\n",
        "print(\"Using positive index: \", l4[0])\n",
        "print(\"Using negative index: \", l4[-3])\n",
        "print(\"Using range index: \", l4[10:18])\n",
        "print(\"Using range index (reverse): \", l4[10:7])\n",
        "print(\"ArrayIndexOutofBound?? \", l4[20])\n"
      ],
      "metadata": {
        "id": "mN_8QeBfu-C6",
        "outputId": "caec3ca7-8df4-4356-ed22-f1026d9ce88e",
        "colab": {
          "base_uri": "https://localhost:8080/",
          "height": 245
        }
      },
      "execution_count": null,
      "outputs": [
        {
          "output_type": "stream",
          "name": "stdout",
          "text": [
            "Using positive index:  10\n",
            "Using negative index:  Alpha\n",
            "Using range index:  ['Alpha', 'Beta', 'Delta']\n",
            "Using range index (reverse):  []\n"
          ]
        },
        {
          "output_type": "error",
          "ename": "IndexError",
          "evalue": "list index out of range",
          "traceback": [
            "\u001b[0;31m---------------------------------------------------------------------------\u001b[0m",
            "\u001b[0;31mIndexError\u001b[0m                                Traceback (most recent call last)",
            "\u001b[0;32m<ipython-input-36-8de791d3d817>\u001b[0m in \u001b[0;36m<cell line: 7>\u001b[0;34m()\u001b[0m\n\u001b[1;32m      5\u001b[0m \u001b[0mprint\u001b[0m\u001b[0;34m(\u001b[0m\u001b[0;34m\"Using range index (reverse): \"\u001b[0m\u001b[0;34m,\u001b[0m \u001b[0ml4\u001b[0m\u001b[0;34m[\u001b[0m\u001b[0;36m10\u001b[0m\u001b[0;34m:\u001b[0m\u001b[0;36m7\u001b[0m\u001b[0;34m]\u001b[0m\u001b[0;34m)\u001b[0m\u001b[0;34m\u001b[0m\u001b[0;34m\u001b[0m\u001b[0m\n\u001b[1;32m      6\u001b[0m \u001b[0;34m\u001b[0m\u001b[0m\n\u001b[0;32m----> 7\u001b[0;31m \u001b[0mprint\u001b[0m\u001b[0;34m(\u001b[0m\u001b[0;34m\"ArrayIndexOutofBound?? \"\u001b[0m\u001b[0;34m,\u001b[0m \u001b[0ml4\u001b[0m\u001b[0;34m[\u001b[0m\u001b[0;36m20\u001b[0m\u001b[0;34m]\u001b[0m\u001b[0;34m)\u001b[0m\u001b[0;34m\u001b[0m\u001b[0;34m\u001b[0m\u001b[0m\n\u001b[0m",
            "\u001b[0;31mIndexError\u001b[0m: list index out of range"
          ]
        }
      ]
    }
  ]
}