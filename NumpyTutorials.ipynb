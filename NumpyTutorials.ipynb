{
  "nbformat": 4,
  "nbformat_minor": 0,
  "metadata": {
    "colab": {
      "provenance": []
    },
    "kernelspec": {
      "name": "python3",
      "display_name": "Python 3"
    },
    "language_info": {
      "name": "python"
    }
  },
  "cells": [
    {
      "cell_type": "code",
      "source": [
        "#NUMPY\n",
        "import numpy as np\n",
        "\n",
        "arr = np.array([1, 2, 3, 4, 5, 6, 7, 8, 9, 10])\n",
        "print(arr)\n",
        "print(\"Type: \", type(arr))\n",
        "print(\"\\nDimension: \", arr.ndim)\n",
        "print(\"Size:  \",arr.size)\n",
        "print(\"Shape: \",arr.shape)\n",
        "print(\"Dtype: \",arr.dtype)\n",
        "\n",
        "\n",
        "arr1 = np.array(100)\n",
        "arr2 = np.array([1,2,3,4,5])\n",
        "arr3 = np.array([[1,2,\"NTT\"],[4,5,6]])\n",
        "arr4 = np.array([[[1,2,3],[4,5,6]],[[1,2,3],[4,5,6]]])\n",
        "\n",
        "print(\"Dimension of arr1:\",arr1.ndim)\n",
        "print(\"Dimension of arr2:\",arr2.ndim)\n",
        "print(\"Dimension of arr3:\",arr3.ndim)\n",
        "print(\"Dimension of arr4:\",arr4.ndim)"
      ],
      "metadata": {
        "id": "xpRNz2akSR9j",
        "outputId": "f5082ba7-cb82-4b37-b590-d4d8c12197c3",
        "colab": {
          "base_uri": "https://localhost:8080/"
        }
      },
      "execution_count": 5,
      "outputs": [
        {
          "output_type": "stream",
          "name": "stdout",
          "text": [
            "[ 1  2  3  4  5  6  7  8  9 10]\n",
            "Type:  <class 'numpy.ndarray'>\n",
            "\n",
            "Dimension:  1\n",
            "Size:   10\n",
            "Shape:  (10,)\n",
            "Dtype:  int64\n",
            "Dimension of arr1: 0\n",
            "Dimension of arr2: 1\n",
            "Dimension of arr3: 2\n",
            "Dimension of arr4: 3\n"
          ]
        }
      ]
    },
    {
      "cell_type": "code",
      "source": [
        "#Creating 2 dimension array\n",
        "arr2 = np.array([[1, 2, 3], [4, 5, 6], [7, 8, 9]])\n",
        "print(arr2)\n",
        "#print(\"Type: \", type(arr2))\n",
        "print(\"\\nDimension: \", arr2.ndim)\n",
        "print(\"Size:  \", arr2.size)\n",
        "print(\"Shape: \", arr2.shape)\n",
        "print(\"Dtype: \", arr2.dtype)"
      ],
      "metadata": {
        "id": "IIu59V2HTEEi",
        "outputId": "05d2c6db-ccee-4b6e-e7c1-7b1d2083b8c7",
        "colab": {
          "base_uri": "https://localhost:8080/"
        }
      },
      "execution_count": null,
      "outputs": [
        {
          "output_type": "stream",
          "name": "stdout",
          "text": [
            "[[1 2 3]\n",
            " [4 5 6]\n",
            " [7 8 9]]\n",
            "Type:  <class 'numpy.ndarray'>\n",
            "Dimension:  2\n",
            "Size:   9\n",
            "Shape:  (3, 3)\n",
            "Dtype:  int64\n"
          ]
        }
      ]
    },
    {
      "cell_type": "code",
      "source": [
        "#Creating 2 dimension array\n",
        "arr3 = np.array([[[1, 2, 3], [4, 5, 6], [7, 8, 9]], [[11, 22, 33], [44,55,66], [77, 88, 99]], [[111, 222, 333], [444, 555, 666], [777, 888, 999]]])\n",
        "print(arr3)\n",
        "#print(\"Type: \", type(arr3))\n",
        "print(\"\\nDimension: \", arr3.ndim)\n",
        "print(\"Size:  \", arr3.size)\n",
        "print(\"Shape: \", arr3.shape)\n",
        "print(\"Dtype: \", arr3.dtype)"
      ],
      "metadata": {
        "id": "L4yAFOuPT1cg",
        "outputId": "855f3534-da5f-4b57-c02c-7e98fb12a5de",
        "colab": {
          "base_uri": "https://localhost:8080/"
        }
      },
      "execution_count": null,
      "outputs": [
        {
          "output_type": "stream",
          "name": "stdout",
          "text": [
            "[[[  1   2   3]\n",
            "  [  4   5   6]\n",
            "  [  7   8   9]]\n",
            "\n",
            " [[ 11  22  33]\n",
            "  [ 44  55  66]\n",
            "  [ 77  88  99]]\n",
            "\n",
            " [[111 222 333]\n",
            "  [444 555 666]\n",
            "  [777 888 999]]]\n",
            "\n",
            "Dimension:  3\n",
            "Size:   27\n",
            "Shape:  (3, 3, 3)\n",
            "Dtype:  int64\n"
          ]
        }
      ]
    },
    {
      "cell_type": "code",
      "source": [
        "#Creating an array with dimension\n",
        "arr4 = np.array([1, 2, 3, 4, 5])\n",
        "print(arr4)\n",
        "print(\"Dimension:\",arr4.ndim)\n",
        "print(\"Size:\", arr4.size)\n",
        "print(\"Shape:\",arr4.shape)"
      ],
      "metadata": {
        "id": "JavoJXXxXlSy",
        "outputId": "6a4f6ed6-1478-44aa-c62b-d41f610bbc36",
        "colab": {
          "base_uri": "https://localhost:8080/"
        }
      },
      "execution_count": 4,
      "outputs": [
        {
          "output_type": "stream",
          "name": "stdout",
          "text": [
            "[1 2 3 4 5]\n",
            "Dimension: 1\n",
            "Size: 5\n",
            "Shape: (5,)\n"
          ]
        }
      ]
    }
  ]
}