{
  "nbformat": 4,
  "nbformat_minor": 0,
  "metadata": {
    "colab": {
      "provenance": []
    },
    "kernelspec": {
      "name": "python3",
      "display_name": "Python 3"
    },
    "language_info": {
      "name": "python"
    }
  },
  "cells": [
    {
      "cell_type": "code",
      "source": [
        "name=input('What is your name?\\n')\n",
        "age=input('How old are you?\\n')\n",
        "print('\\nHello, ',name,'!!\\n\\nGlad to meet you. You can play in under',age,'team.')"
      ],
      "metadata": {
        "id": "XejbhINEPWO-",
        "outputId": "cff33f2c-a7ae-41a4-d89e-8778d93c2b59",
        "colab": {
          "base_uri": "https://localhost:8080/"
        }
      },
      "execution_count": 5,
      "outputs": [
        {
          "output_type": "stream",
          "name": "stdout",
          "text": [
            "What is your name?\n",
            "Ganesh\n",
            "How old are you?\n",
            "9\n",
            "\n",
            "Hello,  Ganesh !!\n",
            "\n",
            "Glad to meet you. You can play in under 9 team.\n"
          ]
        }
      ]
    },
    {
      "cell_type": "code",
      "source": [
        "fnum=int(input('Enter the first number: '))\n",
        "snum=int(input('Enter the second number: '))\n",
        "print('Addition of',fnum,'and',snum,'is',fnum+snum)\n"
      ],
      "metadata": {
        "id": "Pld5HXXYgSFT",
        "outputId": "6b582566-354e-4ea0-b697-d3ab3890295e",
        "colab": {
          "base_uri": "https://localhost:8080/"
        }
      },
      "execution_count": 1,
      "outputs": [
        {
          "output_type": "stream",
          "name": "stdout",
          "text": [
            "Enter the first number: 15\n",
            "Enter the second number: 94\n",
            "Addition of 15 and 94 is 109\n"
          ]
        }
      ]
    },
    {
      "cell_type": "code",
      "source": [
        "fnum=int(input('enter the first number:'))\n",
        "snum=int(input('enter the second number:'))\n",
        "print('Subtraction of',snum,'from',fnum,'is',fnum-snum)"
      ],
      "metadata": {
        "id": "F6D3EnHQ7WcF",
        "outputId": "fb26e3f1-8760-4443-8b08-840dd321ede7",
        "colab": {
          "base_uri": "https://localhost:8080/"
        }
      },
      "execution_count": 5,
      "outputs": [
        {
          "output_type": "stream",
          "name": "stdout",
          "text": [
            "enter the first number:100\n",
            "enter the second number:200\n",
            "Subtraction of 100 and 200 is -100\n"
          ]
        }
      ]
    },
    {
      "cell_type": "code",
      "source": [
        "fnum=int(input(\"enter the first number:\"))\n",
        "snum=int(input(\"enter the second number\"))\n",
        "print(\"multiplication of\",fnum,'and',snum,\"is\",fnum*snum)"
      ],
      "metadata": {
        "id": "yna-waci96P4",
        "outputId": "1460937d-e5d9-4c18-8704-709b7c7db956",
        "colab": {
          "base_uri": "https://localhost:8080/"
        }
      },
      "execution_count": 9,
      "outputs": [
        {
          "output_type": "stream",
          "name": "stdout",
          "text": [
            "enter the first number:46\n",
            "enter the second number9\n",
            "multiplication of 46 and 9 is 414\n"
          ]
        }
      ]
    },
    {
      "cell_type": "code",
      "source": [
        "fnum=int(input('enter the first number:'))\n",
        "snum=int(input('enter the second number:'))\n",
        "print(\"division of\",fnum,\"and\",snum,\"is\",fnum/snum)"
      ],
      "metadata": {
        "id": "TtTN2kNcAWzL",
        "outputId": "1c4a617a-1c10-4d60-a95b-429c4b5918cb",
        "colab": {
          "base_uri": "https://localhost:8080/"
        }
      },
      "execution_count": 14,
      "outputs": [
        {
          "output_type": "stream",
          "name": "stdout",
          "text": [
            "enter the first number:20\n",
            "enter the second number:6\n",
            "division of 20 and 6 is 3.3333333333333335\n"
          ]
        }
      ]
    },
    {
      "cell_type": "code",
      "source": [
        "choice=int(input(\"My calculator\\n1. Addition\\n2. Subraction\\n3. Multiplication\\n4. Division\\n\\nEnter your choice(1/2/3/4):\\n\"))\n",
        "math = {1: 'Addition', 2: 'Subraction', 3: 'Multiplication', 4: 'Division'}\n",
        "\n",
        "while (choice not in (1,2,3,4)):\n",
        "  print('\\nInvalid choice. Please select from the below options. Enter only the number')\n",
        "  choice=int(input(\"1. Addition\\n2. Subraction\\n3. Multiplication\\n4. Division\\n\\nEnter your choice(1/2/3/4):\\n\"))\n",
        "\n",
        "if (math[choice] == \"Addition\"):\n",
        "  print('\\nPerforming addition')\n",
        "  fnum=int(input('Enter the first number: '))\n",
        "  snum=int(input('Enter the second number: '))\n",
        "  print('Addition of',fnum,'and',snum,'is',fnum+snum)\n",
        "elif(math[choice] == \"Subraction\"):\n",
        "  print('\\nPerforming subraction')\n",
        "  fnum=int(input('Enter the first number: '))\n",
        "  snum=int(input('Enter the second number: '))\n",
        "  print('Subtraction of',snum,'from',fnum,'is',fnum-snum)\n",
        "elif(math[choice] == \"Multiplication\"):\n",
        "  print('\\nPerforming multiplication')\n",
        "  fnum=int(input('Enter the first number: '))\n",
        "  snum=int(input('Enter the second number: '))\n",
        "  print('Multiplication of',fnum,'and',snum,'is',fnum*snum)\n",
        "elif(math[choice] == \"Division\"):\n",
        "  print('\\nPerforming division')\n",
        "  fnum=int(input('Enter the first number: '))\n",
        "  snum=int(input('Enter the second number: '))\n",
        "  print('Result of dividing',fnum,'by',snum,'is',fnum/snum)\n"
      ],
      "metadata": {
        "id": "vcjkMctfDQ9F",
        "outputId": "811b80e4-2117-4a8c-80e1-1b167ff893c4",
        "colab": {
          "base_uri": "https://localhost:8080/",
          "height": 662
        }
      },
      "execution_count": 1,
      "outputs": [
        {
          "name": "stdout",
          "output_type": "stream",
          "text": [
            "My calculator\n",
            "1. Addition\n",
            "2. Subraction\n",
            "3. Multiplication\n",
            "4. Division\n",
            "\n",
            "Enter your choice(1/2/3/4):\n",
            "7\n",
            "\n",
            "Invalid choice. Please select from the below options. Enter only the number\n",
            "1. Addition\n",
            "2. Subraction\n",
            "3. Multiplication\n",
            "4. Division\n",
            "\n",
            "Enter your choice(1/2/3/4):\n",
            "10\n",
            "\n",
            "Invalid choice. Please select from the below options. Enter only the number\n",
            "1. Addition\n",
            "2. Subraction\n",
            "3. Multiplication\n",
            "4. Division\n",
            "\n",
            "Enter your choice(1/2/3/4):\n",
            "Ganesh\n"
          ]
        },
        {
          "output_type": "error",
          "ename": "ValueError",
          "evalue": "invalid literal for int() with base 10: 'Ganesh'",
          "traceback": [
            "\u001b[0;31m---------------------------------------------------------------------------\u001b[0m",
            "\u001b[0;31mValueError\u001b[0m                                Traceback (most recent call last)",
            "\u001b[0;32m<ipython-input-1-95d0ef4bf18b>\u001b[0m in \u001b[0;36m<cell line: 4>\u001b[0;34m()\u001b[0m\n\u001b[1;32m      4\u001b[0m \u001b[0;32mwhile\u001b[0m \u001b[0;34m(\u001b[0m\u001b[0mchoice\u001b[0m \u001b[0;32mnot\u001b[0m \u001b[0;32min\u001b[0m \u001b[0;34m(\u001b[0m\u001b[0;36m1\u001b[0m\u001b[0;34m,\u001b[0m\u001b[0;36m2\u001b[0m\u001b[0;34m,\u001b[0m\u001b[0;36m3\u001b[0m\u001b[0;34m,\u001b[0m\u001b[0;36m4\u001b[0m\u001b[0;34m)\u001b[0m\u001b[0;34m)\u001b[0m\u001b[0;34m:\u001b[0m\u001b[0;34m\u001b[0m\u001b[0;34m\u001b[0m\u001b[0m\n\u001b[1;32m      5\u001b[0m   \u001b[0mprint\u001b[0m\u001b[0;34m(\u001b[0m\u001b[0;34m'\\nInvalid choice. Please select from the below options. Enter only the number'\u001b[0m\u001b[0;34m)\u001b[0m\u001b[0;34m\u001b[0m\u001b[0;34m\u001b[0m\u001b[0m\n\u001b[0;32m----> 6\u001b[0;31m   \u001b[0mchoice\u001b[0m\u001b[0;34m=\u001b[0m\u001b[0mint\u001b[0m\u001b[0;34m(\u001b[0m\u001b[0minput\u001b[0m\u001b[0;34m(\u001b[0m\u001b[0;34m\"1. Addition\\n2. Subraction\\n3. Multiplication\\n4. Division\\n\\nEnter your choice(1/2/3/4):\\n\"\u001b[0m\u001b[0;34m)\u001b[0m\u001b[0;34m)\u001b[0m\u001b[0;34m\u001b[0m\u001b[0;34m\u001b[0m\u001b[0m\n\u001b[0m\u001b[1;32m      7\u001b[0m \u001b[0;34m\u001b[0m\u001b[0m\n\u001b[1;32m      8\u001b[0m \u001b[0;32mif\u001b[0m \u001b[0;34m(\u001b[0m\u001b[0mmath\u001b[0m\u001b[0;34m[\u001b[0m\u001b[0mchoice\u001b[0m\u001b[0;34m]\u001b[0m \u001b[0;34m==\u001b[0m \u001b[0;34m\"Addition\"\u001b[0m\u001b[0;34m)\u001b[0m\u001b[0;34m:\u001b[0m\u001b[0;34m\u001b[0m\u001b[0;34m\u001b[0m\u001b[0m\n",
            "\u001b[0;31mValueError\u001b[0m: invalid literal for int() with base 10: 'Ganesh'"
          ]
        }
      ]
    },
    {
      "cell_type": "code",
      "source": [],
      "metadata": {
        "id": "1vQNCKEBdRcM"
      },
      "execution_count": null,
      "outputs": []
    },
    {
      "cell_type": "code",
      "source": [],
      "metadata": {
        "id": "f6Tp4A8udPiT"
      },
      "execution_count": null,
      "outputs": []
    }
  ]
}